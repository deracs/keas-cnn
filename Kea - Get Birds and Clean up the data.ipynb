{
 "cells": [
  {
   "cell_type": "code",
   "execution_count": 1,
   "metadata": {},
   "outputs": [],
   "source": [
    "## Find keas by name\n",
    "%load_ext autoreload\n",
    "%autoreload 2\n",
    "%matplotlib inline"
   ]
  },
  {
   "cell_type": "code",
   "execution_count": 5,
   "metadata": {},
   "outputs": [],
   "source": [
    "import pandas as pd\n",
    "import requests\n",
    "import json"
   ]
  },
  {
   "cell_type": "markdown",
   "metadata": {},
   "source": [
    "## API Settings"
   ]
  },
  {
   "cell_type": "code",
   "execution_count": 6,
   "metadata": {},
   "outputs": [],
   "source": [
    "url = \"https://data.keadatabase.nz/band_combos/?style=&study_area=&bird__status=alive&colours=&symbols=&is_extended=true&is_featured=unknown\""
   ]
  },
  {
   "cell_type": "markdown",
   "metadata": {},
   "source": [
    "## Fetch keas"
   ]
  },
  {
   "cell_type": "code",
   "execution_count": 7,
   "metadata": {},
   "outputs": [],
   "source": [
    "def get_keas(url = \"\"):\n",
    "    response = requests.get(url).json()\n",
    "    \n",
    "    if response['results']:\n",
    "        df = pd.io.json.json_normalize(response['results'])\n",
    "        df.columns = df.columns.map(lambda x: x.split(\".\")[-1])\n",
    " \n",
    "    else:\n",
    "        print('no data')\n",
    "    if response['next']:\n",
    "        df = pd.concat([df,  get_keas(response['next'])], ignore_index=True,sort=False)\n",
    "         \n",
    "    return df"
   ]
  },
  {
   "cell_type": "code",
   "execution_count": 8,
   "metadata": {},
   "outputs": [],
   "source": [
    "keas = get_keas(url)"
   ]
  },
  {
   "cell_type": "markdown",
   "metadata": {},
   "source": [
    "## Explore data & Drop duplicates"
   ]
  },
  {
   "cell_type": "code",
   "execution_count": 9,
   "metadata": {},
   "outputs": [
    {
     "name": "stdout",
     "output_type": "stream",
     "text": [
      "(228, 29)\n",
      "Index(['band_combo', 'description', 'is_featured', 'full_size', 'large',\n",
      "       'thumbnail', 'profile_picture_attribution', 'sponsor_name',\n",
      "       'sponsor_website', 'birthday', 'date_imported', 'date_modified',\n",
      "       'get_age', 'get_life_stage', 'name', 'primary_band', 'sex', 'slug',\n",
      "       'status', 'study_area', 'colours', 'date_deployed', 'date_imported',\n",
      "       'date_modified', 'name', 'special', 'study_area', 'style', 'symbols'],\n",
      "      dtype='object')\n",
      "band_combo                     object\n",
      "description                    object\n",
      "is_featured                      bool\n",
      "full_size                      object\n",
      "large                          object\n",
      "thumbnail                      object\n",
      "profile_picture_attribution    object\n",
      "sponsor_name                   object\n",
      "sponsor_website                object\n",
      "birthday                       object\n",
      "date_imported                  object\n",
      "date_modified                  object\n",
      "get_age                         int64\n",
      "get_life_stage                 object\n",
      "name                           object\n",
      "primary_band                   object\n",
      "sex                            object\n",
      "slug                           object\n",
      "status                         object\n",
      "study_area                     object\n",
      "colours                        object\n",
      "date_deployed                  object\n",
      "date_imported                  object\n",
      "date_modified                  object\n",
      "name                           object\n",
      "special                        object\n",
      "study_area                     object\n",
      "style                          object\n",
      "symbols                        object\n",
      "dtype: object\n"
     ]
    }
   ],
   "source": [
    "print(keas.shape)\n",
    "print(keas.columns)\n",
    "print(keas.dtypes)\n",
    "keas = keas.loc[:,~keas.columns.duplicated()]"
   ]
  },
  {
   "cell_type": "code",
   "execution_count": 16,
   "metadata": {},
   "outputs": [
    {
     "data": {
      "text/html": [
       "<div>\n",
       "<style scoped>\n",
       "    .dataframe tbody tr th:only-of-type {\n",
       "        vertical-align: middle;\n",
       "    }\n",
       "\n",
       "    .dataframe tbody tr th {\n",
       "        vertical-align: top;\n",
       "    }\n",
       "\n",
       "    .dataframe thead th {\n",
       "        text-align: right;\n",
       "    }\n",
       "</style>\n",
       "<table border=\"1\" class=\"dataframe\">\n",
       "  <thead>\n",
       "    <tr style=\"text-align: right;\">\n",
       "      <th></th>\n",
       "      <th>band_combo</th>\n",
       "      <th>description</th>\n",
       "      <th>is_featured</th>\n",
       "      <th>full_size</th>\n",
       "      <th>large</th>\n",
       "      <th>thumbnail</th>\n",
       "      <th>profile_picture_attribution</th>\n",
       "      <th>sponsor_name</th>\n",
       "      <th>sponsor_website</th>\n",
       "      <th>birthday</th>\n",
       "      <th>...</th>\n",
       "      <th>primary_band</th>\n",
       "      <th>sex</th>\n",
       "      <th>slug</th>\n",
       "      <th>status</th>\n",
       "      <th>study_area</th>\n",
       "      <th>colours</th>\n",
       "      <th>date_deployed</th>\n",
       "      <th>special</th>\n",
       "      <th>style</th>\n",
       "      <th>symbols</th>\n",
       "    </tr>\n",
       "  </thead>\n",
       "  <tbody>\n",
       "    <tr>\n",
       "      <th>0</th>\n",
       "      <td>Red o on White</td>\n",
       "      <td>Addi was one of ten kea banded at Moturau hut ...</td>\n",
       "      <td>False</td>\n",
       "      <td>NaN</td>\n",
       "      <td>NaN</td>\n",
       "      <td>NaN</td>\n",
       "      <td>None</td>\n",
       "      <td>None</td>\n",
       "      <td>None</td>\n",
       "      <td>2019-01-01</td>\n",
       "      <td>...</td>\n",
       "      <td>V-3209</td>\n",
       "      <td>Female</td>\n",
       "      <td>addi</td>\n",
       "      <td>Alive</td>\n",
       "      <td>Fiordland</td>\n",
       "      <td>[red, white]</td>\n",
       "      <td>2019-08-20</td>\n",
       "      <td>●</td>\n",
       "      <td>new</td>\n",
       "      <td>[●]</td>\n",
       "    </tr>\n",
       "    <tr>\n",
       "      <th>1</th>\n",
       "      <td>White C on Orange</td>\n",
       "      <td>Two kea were caught together at Red Tarns on t...</td>\n",
       "      <td>False</td>\n",
       "      <td>https://media.keadatabase.nz/media/birds/adria...</td>\n",
       "      <td>https://media.keadatabase.nz/media/__sized__/b...</td>\n",
       "      <td>https://media.keadatabase.nz/media/__sized__/b...</td>\n",
       "      <td>Clio Reid</td>\n",
       "      <td>None</td>\n",
       "      <td>None</td>\n",
       "      <td>2019-01-01</td>\n",
       "      <td>...</td>\n",
       "      <td>V-2103</td>\n",
       "      <td>Female</td>\n",
       "      <td>adriana</td>\n",
       "      <td>Alive</td>\n",
       "      <td>Aoraki</td>\n",
       "      <td>[white, orange]</td>\n",
       "      <td>2019-03-14</td>\n",
       "      <td>None</td>\n",
       "      <td>new</td>\n",
       "      <td>[C]</td>\n",
       "    </tr>\n",
       "    <tr>\n",
       "      <th>2</th>\n",
       "      <td>Yellow * on Black</td>\n",
       "      <td>Alwyn hangs out mostly at Deaths Corner and Ca...</td>\n",
       "      <td>False</td>\n",
       "      <td>https://media.keadatabase.nz/media/birds/alwyn...</td>\n",
       "      <td>https://media.keadatabase.nz/media/__sized__/b...</td>\n",
       "      <td>https://media.keadatabase.nz/media/__sized__/b...</td>\n",
       "      <td>None</td>\n",
       "      <td>None</td>\n",
       "      <td>None</td>\n",
       "      <td>2014-01-01</td>\n",
       "      <td>...</td>\n",
       "      <td>V-2626</td>\n",
       "      <td>Female</td>\n",
       "      <td>alwyn</td>\n",
       "      <td>Alive</td>\n",
       "      <td>Waimakariri</td>\n",
       "      <td>[yellow, black]</td>\n",
       "      <td>2016-08-09</td>\n",
       "      <td>None</td>\n",
       "      <td>new</td>\n",
       "      <td>[*]</td>\n",
       "    </tr>\n",
       "    <tr>\n",
       "      <th>3</th>\n",
       "      <td>x / x - Metal / x</td>\n",
       "      <td>Angelina has a thick steel band. Angelina was ...</td>\n",
       "      <td>False</td>\n",
       "      <td>https://media.keadatabase.nz/media/birds/angel...</td>\n",
       "      <td>https://media.keadatabase.nz/media/__sized__/b...</td>\n",
       "      <td>https://media.keadatabase.nz/media/__sized__/b...</td>\n",
       "      <td>Willowbank</td>\n",
       "      <td>None</td>\n",
       "      <td>None</td>\n",
       "      <td>2006-10-22</td>\n",
       "      <td>...</td>\n",
       "      <td>None</td>\n",
       "      <td>Female</td>\n",
       "      <td>angelina</td>\n",
       "      <td>Alive</td>\n",
       "      <td>Willowbank</td>\n",
       "      <td>[metal]</td>\n",
       "      <td>2017-10-13</td>\n",
       "      <td>None</td>\n",
       "      <td>old</td>\n",
       "      <td>[]</td>\n",
       "    </tr>\n",
       "    <tr>\n",
       "      <th>4</th>\n",
       "      <td>White S on Red</td>\n",
       "      <td>Anthea is one of the earlier birds banded with...</td>\n",
       "      <td>False</td>\n",
       "      <td>https://media.keadatabase.nz/media/birds/anthe...</td>\n",
       "      <td>https://media.keadatabase.nz/media/__sized__/b...</td>\n",
       "      <td>https://media.keadatabase.nz/media/__sized__/b...</td>\n",
       "      <td>Laura Young</td>\n",
       "      <td>None</td>\n",
       "      <td>None</td>\n",
       "      <td>2009-01-01</td>\n",
       "      <td>...</td>\n",
       "      <td>V-1299</td>\n",
       "      <td>Female</td>\n",
       "      <td>anthea</td>\n",
       "      <td>Alive</td>\n",
       "      <td>Waimakariri</td>\n",
       "      <td>[white, red]</td>\n",
       "      <td>2013-09-13</td>\n",
       "      <td>None</td>\n",
       "      <td>new</td>\n",
       "      <td>[S]</td>\n",
       "    </tr>\n",
       "  </tbody>\n",
       "</table>\n",
       "<p>5 rows × 25 columns</p>\n",
       "</div>"
      ],
      "text/plain": [
       "          band_combo                                        description  \\\n",
       "0     Red o on White  Addi was one of ten kea banded at Moturau hut ...   \n",
       "1  White C on Orange  Two kea were caught together at Red Tarns on t...   \n",
       "2  Yellow * on Black  Alwyn hangs out mostly at Deaths Corner and Ca...   \n",
       "3  x / x - Metal / x  Angelina has a thick steel band. Angelina was ...   \n",
       "4     White S on Red  Anthea is one of the earlier birds banded with...   \n",
       "\n",
       "   is_featured                                          full_size  \\\n",
       "0        False                                                NaN   \n",
       "1        False  https://media.keadatabase.nz/media/birds/adria...   \n",
       "2        False  https://media.keadatabase.nz/media/birds/alwyn...   \n",
       "3        False  https://media.keadatabase.nz/media/birds/angel...   \n",
       "4        False  https://media.keadatabase.nz/media/birds/anthe...   \n",
       "\n",
       "                                               large  \\\n",
       "0                                                NaN   \n",
       "1  https://media.keadatabase.nz/media/__sized__/b...   \n",
       "2  https://media.keadatabase.nz/media/__sized__/b...   \n",
       "3  https://media.keadatabase.nz/media/__sized__/b...   \n",
       "4  https://media.keadatabase.nz/media/__sized__/b...   \n",
       "\n",
       "                                           thumbnail  \\\n",
       "0                                                NaN   \n",
       "1  https://media.keadatabase.nz/media/__sized__/b...   \n",
       "2  https://media.keadatabase.nz/media/__sized__/b...   \n",
       "3  https://media.keadatabase.nz/media/__sized__/b...   \n",
       "4  https://media.keadatabase.nz/media/__sized__/b...   \n",
       "\n",
       "  profile_picture_attribution sponsor_name sponsor_website    birthday  ...  \\\n",
       "0                        None         None            None  2019-01-01  ...   \n",
       "1                   Clio Reid         None            None  2019-01-01  ...   \n",
       "2                        None         None            None  2014-01-01  ...   \n",
       "3                  Willowbank         None            None  2006-10-22  ...   \n",
       "4                 Laura Young         None            None  2009-01-01  ...   \n",
       "\n",
       "  primary_band     sex      slug status   study_area          colours  \\\n",
       "0       V-3209  Female      addi  Alive    Fiordland     [red, white]   \n",
       "1       V-2103  Female   adriana  Alive       Aoraki  [white, orange]   \n",
       "2       V-2626  Female     alwyn  Alive  Waimakariri  [yellow, black]   \n",
       "3         None  Female  angelina  Alive   Willowbank          [metal]   \n",
       "4       V-1299  Female    anthea  Alive  Waimakariri     [white, red]   \n",
       "\n",
       "  date_deployed special style symbols  \n",
       "0    2019-08-20       ●   new     [●]  \n",
       "1    2019-03-14    None   new     [C]  \n",
       "2    2016-08-09    None   new     [*]  \n",
       "3    2017-10-13    None   old      []  \n",
       "4    2013-09-13    None   new     [S]  \n",
       "\n",
       "[5 rows x 25 columns]"
      ]
     },
     "execution_count": 16,
     "metadata": {},
     "output_type": "execute_result"
    }
   ],
   "source": [
    "keas.head()"
   ]
  },
  {
   "cell_type": "code",
   "execution_count": 15,
   "metadata": {},
   "outputs": [
    {
     "data": {
      "text/plain": [
       "Waimakariri    142\n",
       "Fiordland       34\n",
       "Willowbank      12\n",
       "Wanaka           9\n",
       "Westland         8\n",
       "Orana Park       7\n",
       "Aoraki           6\n",
       "Rotoiti          5\n",
       "Kahurangi        3\n",
       "Wakatipu         1\n",
       "Mt Richmond      1\n",
       "Name: study_area, dtype: int64"
      ]
     },
     "execution_count": 15,
     "metadata": {},
     "output_type": "execute_result"
    }
   ],
   "source": [
    "keas['study_area'].value_counts()"
   ]
  },
  {
   "cell_type": "markdown",
   "metadata": {},
   "source": [
    "## Remove birds with no thumbnail"
   ]
  },
  {
   "cell_type": "code",
   "execution_count": 14,
   "metadata": {},
   "outputs": [
    {
     "data": {
      "text/plain": [
       "Male            150\n",
       "Female           68\n",
       "Undetermined      6\n",
       "Name: sex, dtype: int64"
      ]
     },
     "execution_count": 14,
     "metadata": {},
     "output_type": "execute_result"
    }
   ],
   "source": [
    "import numpy as np\n",
    "kea_df = keas.dropna(subset=['thumbnail'])\n",
    "kea_df.to_csv('keas-with-images.csv')\n",
    "kea_df.sex.value_counts()"
   ]
  },
  {
   "cell_type": "code",
   "execution_count": null,
   "metadata": {},
   "outputs": [],
   "source": []
  }
 ],
 "metadata": {
  "kernelspec": {
   "display_name": "Python 3",
   "language": "python",
   "name": "python3"
  },
  "language_info": {
   "codemirror_mode": {
    "name": "ipython",
    "version": 3
   },
   "file_extension": ".py",
   "mimetype": "text/x-python",
   "name": "python",
   "nbconvert_exporter": "python",
   "pygments_lexer": "ipython3",
   "version": "3.7.3"
  },
  "toc": {
   "base_numbering": 1,
   "nav_menu": {},
   "number_sections": true,
   "sideBar": true,
   "skip_h1_title": false,
   "title_cell": "Table of Contents",
   "title_sidebar": "Contents",
   "toc_cell": false,
   "toc_position": {},
   "toc_section_display": true,
   "toc_window_display": true
  },
  "varInspector": {
   "cols": {
    "lenName": 16,
    "lenType": 16,
    "lenVar": 40
   },
   "kernels_config": {
    "python": {
     "delete_cmd_postfix": "",
     "delete_cmd_prefix": "del ",
     "library": "var_list.py",
     "varRefreshCmd": "print(var_dic_list())"
    },
    "r": {
     "delete_cmd_postfix": ") ",
     "delete_cmd_prefix": "rm(",
     "library": "var_list.r",
     "varRefreshCmd": "cat(var_dic_list()) "
    }
   },
   "types_to_exclude": [
    "module",
    "function",
    "builtin_function_or_method",
    "instance",
    "_Feature"
   ],
   "window_display": false
  }
 },
 "nbformat": 4,
 "nbformat_minor": 2
}
